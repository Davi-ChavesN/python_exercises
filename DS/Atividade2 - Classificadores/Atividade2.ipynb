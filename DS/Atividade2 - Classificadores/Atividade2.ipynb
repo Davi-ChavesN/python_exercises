{
 "cells": [
  {
   "cell_type": "markdown",
   "id": "191a442e",
   "metadata": {},
   "source": [
    "### Atividade de Classificadores\n",
    "database: https://www.kaggle.com/datasets/bobbyscience/league-of-legends-diamond-ranked-games-10-min"
   ]
  },
  {
   "cell_type": "code",
   "execution_count": 1,
   "id": "4eb42e29",
   "metadata": {},
   "outputs": [],
   "source": [
    "# 1. Importar bibliotecas essenciais\n",
    "import pandas as pd\n",
    "import numpy as np\n",
    "\n",
    "# Modelos e ferramentas para classificação e validação\n",
    "from sklearn.model_selection import cross_val_score, GridSearchCV\n",
    "from sklearn.ensemble import RandomForestClassifier\n",
    "from sklearn.linear_model import LogisticRegression\n",
    "from sklearn.svm import SVC\n",
    "\n",
    "# Métricas\n",
    "from sklearn.metrics import accuracy_score\n",
    "\n",
    "# Ignore warnings para deixar o output limpo\n",
    "import warnings\n",
    "warnings.filterwarnings('ignore')"
   ]
  },
  {
   "cell_type": "code",
   "execution_count": 2,
   "id": "bcab1b7f",
   "metadata": {},
   "outputs": [
    {
     "name": "stdout",
     "output_type": "stream",
     "text": [
      "       gameId  blueWins  blueWardsPlaced  blueWardsDestroyed  blueFirstBlood  \\\n",
      "0  4519157822         0               28                   2               1   \n",
      "1  4523371949         0               12                   1               0   \n",
      "2  4521474530         0               15                   0               0   \n",
      "3  4524384067         0               43                   1               0   \n",
      "4  4436033771         0               75                   4               0   \n",
      "\n",
      "   blueKills  blueDeaths  blueAssists  blueEliteMonsters  blueDragons  ...  \\\n",
      "0          9           6           11                  0            0  ...   \n",
      "1          5           5            5                  0            0  ...   \n",
      "2          7          11            4                  1            1  ...   \n",
      "3          4           5            5                  1            0  ...   \n",
      "4          6           6            6                  0            0  ...   \n",
      "\n",
      "   redTowersDestroyed  redTotalGold  redAvgLevel  redTotalExperience  \\\n",
      "0                   0         16567          6.8               17047   \n",
      "1                   1         17620          6.8               17438   \n",
      "2                   0         17285          6.8               17254   \n",
      "3                   0         16478          7.0               17961   \n",
      "4                   0         17404          7.0               18313   \n",
      "\n",
      "   redTotalMinionsKilled  redTotalJungleMinionsKilled  redGoldDiff  \\\n",
      "0                    197                           55         -643   \n",
      "1                    240                           52         2908   \n",
      "2                    203                           28         1172   \n",
      "3                    235                           47         1321   \n",
      "4                    225                           67         1004   \n",
      "\n",
      "   redExperienceDiff  redCSPerMin  redGoldPerMin  \n",
      "0                  8         19.7         1656.7  \n",
      "1               1173         24.0         1762.0  \n",
      "2               1033         20.3         1728.5  \n",
      "3                  7         23.5         1647.8  \n",
      "4               -230         22.5         1740.4  \n",
      "\n",
      "[5 rows x 40 columns]\n"
     ]
    }
   ],
   "source": [
    "# 2. Carregar os dados\n",
    "# Supondo que o arquivo esteja no formato CSV chamado 'lol_matches.csv'\n",
    "df = pd.read_csv('../../datasets/high_diamond_ranked_10min.csv')\n",
    "\n",
    "# Vamos dar uma olhada nas primeiras linhas\n",
    "print(df.head())"
   ]
  },
  {
   "cell_type": "code",
   "execution_count": 3,
   "id": "f39fef94",
   "metadata": {},
   "outputs": [
    {
     "name": "stdout",
     "output_type": "stream",
     "text": [
      "<class 'pandas.core.frame.DataFrame'>\n",
      "RangeIndex: 9879 entries, 0 to 9878\n",
      "Data columns (total 40 columns):\n",
      " #   Column                        Non-Null Count  Dtype  \n",
      "---  ------                        --------------  -----  \n",
      " 0   gameId                        9879 non-null   int64  \n",
      " 1   blueWins                      9879 non-null   int64  \n",
      " 2   blueWardsPlaced               9879 non-null   int64  \n",
      " 3   blueWardsDestroyed            9879 non-null   int64  \n",
      " 4   blueFirstBlood                9879 non-null   int64  \n",
      " 5   blueKills                     9879 non-null   int64  \n",
      " 6   blueDeaths                    9879 non-null   int64  \n",
      " 7   blueAssists                   9879 non-null   int64  \n",
      " 8   blueEliteMonsters             9879 non-null   int64  \n",
      " 9   blueDragons                   9879 non-null   int64  \n",
      " 10  blueHeralds                   9879 non-null   int64  \n",
      " 11  blueTowersDestroyed           9879 non-null   int64  \n",
      " 12  blueTotalGold                 9879 non-null   int64  \n",
      " 13  blueAvgLevel                  9879 non-null   float64\n",
      " 14  blueTotalExperience           9879 non-null   int64  \n",
      " 15  blueTotalMinionsKilled        9879 non-null   int64  \n",
      " 16  blueTotalJungleMinionsKilled  9879 non-null   int64  \n",
      " 17  blueGoldDiff                  9879 non-null   int64  \n",
      " 18  blueExperienceDiff            9879 non-null   int64  \n",
      " 19  blueCSPerMin                  9879 non-null   float64\n",
      " 20  blueGoldPerMin                9879 non-null   float64\n",
      " 21  redWardsPlaced                9879 non-null   int64  \n",
      " 22  redWardsDestroyed             9879 non-null   int64  \n",
      " 23  redFirstBlood                 9879 non-null   int64  \n",
      " 24  redKills                      9879 non-null   int64  \n",
      " 25  redDeaths                     9879 non-null   int64  \n",
      " 26  redAssists                    9879 non-null   int64  \n",
      " 27  redEliteMonsters              9879 non-null   int64  \n",
      " 28  redDragons                    9879 non-null   int64  \n",
      " 29  redHeralds                    9879 non-null   int64  \n",
      " 30  redTowersDestroyed            9879 non-null   int64  \n",
      " 31  redTotalGold                  9879 non-null   int64  \n",
      " 32  redAvgLevel                   9879 non-null   float64\n",
      " 33  redTotalExperience            9879 non-null   int64  \n",
      " 34  redTotalMinionsKilled         9879 non-null   int64  \n",
      " 35  redTotalJungleMinionsKilled   9879 non-null   int64  \n",
      " 36  redGoldDiff                   9879 non-null   int64  \n",
      " 37  redExperienceDiff             9879 non-null   int64  \n",
      " 38  redCSPerMin                   9879 non-null   float64\n",
      " 39  redGoldPerMin                 9879 non-null   float64\n",
      "dtypes: float64(6), int64(34)\n",
      "memory usage: 3.0 MB\n",
      "None\n",
      "blueWins\n",
      "0    4949\n",
      "1    4930\n",
      "Name: count, dtype: int64\n"
     ]
    }
   ],
   "source": [
    "# 3. Entendendo os dados\n",
    "\n",
    "# Mostrar informações básicas e checar dados faltantes\n",
    "print(df.info())\n",
    "\n",
    "# Visualizar a distribuição da variável target (a ser prevista)\n",
    "print(df['blueWins'].value_counts())\n",
    "\n",
    "# Aqui, 'blueWins' é a variável target:\n",
    "# 1 se o time azul venceu, 0 se perdeu\n",
    "\n",
    "# Vamos definir features e target:\n",
    "X = df.drop(columns=['gameId', 'blueWins'])  # Remove 'gameId' (não útil para predição) e target\n",
    "y = df['blueWins']"
   ]
  },
  {
   "cell_type": "code",
   "execution_count": 4,
   "id": "385ba01f",
   "metadata": {},
   "outputs": [],
   "source": [
    "# 4. Escolher os classificadores\n",
    "\n",
    "# Vamos usar:\n",
    "# - Logistic Regression\n",
    "# - Random Forest\n",
    "# - SVM (Support Vector Machine)\n",
    "\n",
    "models = {\n",
    "    'Logistic Regression': LogisticRegression(max_iter=1000),\n",
    "    'Random Forest': RandomForestClassifier(random_state=42),\n",
    "    'SVM': SVC(random_state=42)\n",
    "}"
   ]
  },
  {
   "cell_type": "code",
   "execution_count": 5,
   "id": "9c12357c",
   "metadata": {},
   "outputs": [
    {
     "name": "stdout",
     "output_type": "stream",
     "text": [
      "Logistic Regression: Média de acurácia: 0.7312 ± 0.0134\n",
      "Random Forest: Média de acurácia: 0.7171 ± 0.0141\n",
      "SVM: Média de acurácia: 0.7270 ± 0.0127\n"
     ]
    }
   ],
   "source": [
    "# 5. Avaliar os modelos com 5-fold cross-validation\n",
    "\n",
    "from sklearn.model_selection import StratifiedKFold\n",
    "\n",
    "cv = StratifiedKFold(n_splits=5, shuffle=True, random_state=42)\n",
    "\n",
    "for name, model in models.items():\n",
    "    scores = cross_val_score(model, X, y, cv=cv, scoring='accuracy')\n",
    "    print(f\"{name}: Média de acurácia: {scores.mean():.4f} ± {scores.std():.4f}\")"
   ]
  },
  {
   "cell_type": "code",
   "execution_count": 6,
   "id": "4cb5aa45",
   "metadata": {},
   "outputs": [
    {
     "name": "stdout",
     "output_type": "stream",
     "text": [
      "Melhores parâmetros Random Forest: {'max_depth': 10, 'min_samples_split': 5, 'n_estimators': 100}\n",
      "Melhor acurácia Random Forest: 0.7269\n",
      "Melhores parâmetros SVM: {'C': 0.1, 'gamma': 'scale', 'kernel': 'linear'}\n",
      "Melhor acurácia SVM: 0.7331\n"
     ]
    }
   ],
   "source": [
    "# 6. Ajustar hiperparâmetros (tuning) para 2 classificadores\n",
    "\n",
    "# 6.1 Random Forest\n",
    "param_rf = {\n",
    "    'n_estimators': [50, 100, 200],\n",
    "    'max_depth': [None, 10, 20],\n",
    "    'min_samples_split': [2, 5]\n",
    "}\n",
    "\n",
    "grid_rf = GridSearchCV(RandomForestClassifier(random_state=42), param_rf, cv=cv, scoring='accuracy', n_jobs=-1)\n",
    "grid_rf.fit(X, y)\n",
    "print(\"Melhores parâmetros Random Forest:\", grid_rf.best_params_)\n",
    "print(f\"Melhor acurácia Random Forest: {grid_rf.best_score_:.4f}\")\n",
    "\n",
    "# 6.2 SVM\n",
    "param_svm = {\n",
    "    'C': [0.1, 1, 10],\n",
    "    'kernel': ['linear', 'rbf'],\n",
    "    'gamma': ['scale', 'auto']\n",
    "}\n",
    "\n",
    "grid_svm = GridSearchCV(SVC(random_state=42), param_svm, cv=cv, scoring='accuracy', n_jobs=-1)\n",
    "grid_svm.fit(X, y)\n",
    "print(\"Melhores parâmetros SVM:\", grid_svm.best_params_)\n",
    "print(f\"Melhor acurácia SVM: {grid_svm.best_score_:.4f}\")"
   ]
  },
  {
   "cell_type": "code",
   "execution_count": 7,
   "id": "9acef7bb",
   "metadata": {},
   "outputs": [
    {
     "name": "stdout",
     "output_type": "stream",
     "text": [
      "Logistic Regression (padrão): 0.7312\n",
      "Random Forest (tuned): 0.7269\n",
      "SVM (tuned): 0.7331\n",
      "\n",
      "Melhor modelo: SVM (tuned) com acurácia de 0.7331\n"
     ]
    }
   ],
   "source": [
    "# 7. Comparar resultados finais\n",
    "\n",
    "print(f\"Logistic Regression (padrão): {cross_val_score(models['Logistic Regression'], X, y, cv=cv, scoring='accuracy').mean():.4f}\")\n",
    "print(f\"Random Forest (tuned): {grid_rf.best_score_:.4f}\")\n",
    "print(f\"SVM (tuned): {grid_svm.best_score_:.4f}\")\n",
    "\n",
    "# Identificando o melhor modelo\n",
    "best_model_name = None\n",
    "best_score = 0\n",
    "\n",
    "if grid_rf.best_score_ > best_score:\n",
    "    best_score = grid_rf.best_score_\n",
    "    best_model_name = 'Random Forest (tuned)'\n",
    "if grid_svm.best_score_ > best_score:\n",
    "    best_score = grid_svm.best_score_\n",
    "    best_model_name = 'SVM (tuned)'\n",
    "if cross_val_score(models['Logistic Regression'], X, y, cv=cv, scoring='accuracy').mean() > best_score:\n",
    "    best_score = cross_val_score(models['Logistic Regression'], X, y, cv=cv, scoring='accuracy').mean()\n",
    "    best_model_name = 'Logistic Regression (default)'\n",
    "\n",
    "print(f\"\\nMelhor modelo: {best_model_name} com acurácia de {best_score:.4f}\")"
   ]
  }
 ],
 "metadata": {
  "kernelspec": {
   "display_name": "Python 3",
   "language": "python",
   "name": "python3"
  },
  "language_info": {
   "codemirror_mode": {
    "name": "ipython",
    "version": 3
   },
   "file_extension": ".py",
   "mimetype": "text/x-python",
   "name": "python",
   "nbconvert_exporter": "python",
   "pygments_lexer": "ipython3",
   "version": "3.13.6"
  }
 },
 "nbformat": 4,
 "nbformat_minor": 5
}
