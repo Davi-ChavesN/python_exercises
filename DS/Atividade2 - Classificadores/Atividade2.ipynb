{
 "cells": [
  {
   "cell_type": "markdown",
   "id": "d5dbca9a",
   "metadata": {},
   "source": [
    "### Notebook: Previsão de vitória no LoL\n",
    "Importar bibliotecas"
   ]
  },
  {
   "cell_type": "code",
   "execution_count": 5,
   "id": "44e41952",
   "metadata": {},
   "outputs": [],
   "source": [
    "import pandas as pd\n",
    "import numpy as np\n",
    "from sklearn.model_selection import StratifiedKFold, cross_val_score, GridSearchCV\n",
    "from sklearn.preprocessing import MinMaxScaler\n",
    "from sklearn.ensemble import RandomForestClassifier\n",
    "from sklearn.svm import SVC\n",
    "from sklearn.linear_model import LogisticRegression"
   ]
  },
  {
   "cell_type": "markdown",
   "id": "c0691959",
   "metadata": {},
   "source": [
    "### Carregar o Dataset"
   ]
  },
  {
   "cell_type": "code",
   "execution_count": 6,
   "id": "425622e0",
   "metadata": {},
   "outputs": [],
   "source": [
    "df = pd.read_csv(\"../../datasets/Challenger_Ranked_Games.csv\")"
   ]
  },
  {
   "cell_type": "markdown",
   "id": "3a75d017",
   "metadata": {},
   "source": [
    "### Selecionar features “não óbvias”"
   ]
  },
  {
   "cell_type": "code",
   "execution_count": 7,
   "id": "0d6eb26b",
   "metadata": {},
   "outputs": [],
   "source": [
    "continuous_features = [\n",
    "    'gameDuraton',\n",
    "    'blueWardPlaced', 'redWardPlaced',\n",
    "    'blueWardkills', 'redWardkills',\n",
    "    'blueTotalLevel', 'blueAvgLevel', 'redTotalLevel', 'redAvgLevel',\n",
    "    'blueJungleMinionKills', 'redJungleMinionKills',\n",
    "    'blueKillingSpree', 'redKillingSpree',\n",
    "    'blueTotalHeal', 'redTotalHeal'\n",
    "]\n",
    "\n",
    "binary_features = [\n",
    "    'blueFirstBlood', 'redFirstBlood',\n",
    "    'blueFirstTower', 'redFirstTower',\n",
    "    'blueFirstDragon', 'redFirstDragon',\n",
    "    'blueFirstBaron', 'redFirstBaron',\n",
    "    'blueFirstInhibitor', 'redFirstInhibitor'\n",
    "]\n",
    "\n",
    "# Escalonar features contínuas entre 0 e 1\n",
    "scaler = MinMaxScaler()\n",
    "X_cont = scaler.fit_transform(df[continuous_features])\n",
    "\n",
    "# Concatenar com features binárias\n",
    "X = np.hstack([X_cont, df[binary_features].values])\n",
    "\n",
    "# Target\n",
    "y = df['blueWins']"
   ]
  },
  {
   "cell_type": "markdown",
   "id": "692648ed",
   "metadata": {},
   "source": [
    "### Configurar 5-fold Cross Validation"
   ]
  },
  {
   "cell_type": "code",
   "execution_count": 8,
   "id": "dcf8f01f",
   "metadata": {},
   "outputs": [],
   "source": [
    "kf = StratifiedKFold(n_splits=5, shuffle=True, random_state=42)"
   ]
  },
  {
   "cell_type": "markdown",
   "id": "f6fa3598",
   "metadata": {},
   "source": [
    "### Inicializar classificadores"
   ]
  },
  {
   "cell_type": "code",
   "execution_count": 9,
   "id": "ba46d7ce",
   "metadata": {},
   "outputs": [],
   "source": [
    "rf = RandomForestClassifier(random_state=42)\n",
    "svm = SVC()\n",
    "lr = LogisticRegression(max_iter=5000)  # max_iter aumentado para convergência"
   ]
  },
  {
   "cell_type": "markdown",
   "id": "e503a2d2",
   "metadata": {},
   "source": [
    "### Avaliar classificadores com 5-fold CV"
   ]
  },
  {
   "cell_type": "code",
   "execution_count": 10,
   "id": "8b5eb466",
   "metadata": {},
   "outputs": [
    {
     "name": "stdout",
     "output_type": "stream",
     "text": [
      "Random Forest Accuracy: 0.9702 ± 0.0028\n",
      "SVM Accuracy: 0.9543 ± 0.0028\n",
      "Logistic Regression Accuracy: 0.9645 ± 0.0030\n"
     ]
    }
   ],
   "source": [
    "scores_rf = cross_val_score(rf, X, y, cv=kf, scoring='accuracy')\n",
    "scores_svm = cross_val_score(svm, X, y, cv=kf, scoring='accuracy')\n",
    "scores_lr = cross_val_score(lr, X, y, cv=kf, scoring='accuracy')\n",
    "\n",
    "print(\"Random Forest Accuracy: %.4f ± %.4f\" % (scores_rf.mean(), scores_rf.std()))\n",
    "print(\"SVM Accuracy: %.4f ± %.4f\" % (scores_svm.mean(), scores_svm.std()))\n",
    "print(\"Logistic Regression Accuracy: %.4f ± %.4f\" % (scores_lr.mean(), scores_lr.std()))"
   ]
  },
  {
   "cell_type": "markdown",
   "id": "aa0f2c8f",
   "metadata": {},
   "source": [
    "### Ajuste de hiperparâmetros (GridSearch)"
   ]
  },
  {
   "cell_type": "code",
   "execution_count": 11,
   "id": "7714aa1b",
   "metadata": {},
   "outputs": [
    {
     "name": "stdout",
     "output_type": "stream",
     "text": [
      "\n",
      "=== Melhor Random Forest ===\n",
      "Parâmetros: {'max_depth': 20, 'n_estimators': 200}\n",
      "Acurácia média 5-fold: 0.9707107135183757\n",
      "\n",
      "=== Melhor SVM ===\n",
      "Parâmetros: {'C': 10, 'kernel': 'linear'}\n",
      "Acurácia média 5-fold: 0.9749108697889932\n"
     ]
    }
   ],
   "source": [
    "param_rf = {'n_estimators': [50, 100, 200], 'max_depth': [None, 10, 20]}\n",
    "grid_rf = GridSearchCV(RandomForestClassifier(random_state=42), param_rf, cv=kf, scoring='accuracy')\n",
    "grid_rf.fit(X, y)\n",
    "\n",
    "param_svm = {'C': [0.1, 1, 10], 'kernel': ['linear', 'rbf']}\n",
    "grid_svm = GridSearchCV(SVC(), param_svm, cv=kf, scoring='accuracy')\n",
    "grid_svm.fit(X, y)\n",
    "\n",
    "print(\"\\n=== Melhor Random Forest ===\")\n",
    "print(\"Parâmetros:\", grid_rf.best_params_)\n",
    "print(\"Acurácia média 5-fold:\", grid_rf.best_score_)\n",
    "\n",
    "print(\"\\n=== Melhor SVM ===\")\n",
    "print(\"Parâmetros:\", grid_svm.best_params_)\n",
    "print(\"Acurácia média 5-fold:\", grid_svm.best_score_)"
   ]
  },
  {
   "cell_type": "markdown",
   "id": "095ea5be",
   "metadata": {},
   "source": [
    "### Explicação dos resultados"
   ]
  },
  {
   "cell_type": "code",
   "execution_count": 12,
   "id": "a7e7d3d2",
   "metadata": {},
   "outputs": [
    {
     "data": {
      "text/plain": [
       "'\\n1. Random Forest: bom desempenho em relações não-lineares e interações entre features. Possui feature_importances_ para análise interpretativa.\\n2. SVM: sensível à escala das features; aqui usamos MinMaxScaler para melhorar a convergência e performance.\\n3. Logistic Regression: baseline linear; após escalonamento e aumento de max_iter, convergiu e apresenta resultados estáveis.\\n\\n    Escolha do modelo final:\\nCom base na acurácia média 5-fold, desvio padrão e interpretabilidade,\\no Random Forest costuma ser a melhor opção para este tipo de problema.\\n'"
      ]
     },
     "execution_count": 12,
     "metadata": {},
     "output_type": "execute_result"
    }
   ],
   "source": [
    "\"\"\"\n",
    "1. Random Forest: bom desempenho em relações não-lineares e interações entre features. Possui feature_importances_ para análise interpretativa.\n",
    "2. SVM: sensível à escala das features; aqui usamos MinMaxScaler para melhorar a convergência e performance.\n",
    "3. Logistic Regression: baseline linear; após escalonamento e aumento de max_iter, convergiu e apresenta resultados estáveis.\n",
    "\n",
    "    Escolha do modelo final:\n",
    "Com base na acurácia média 5-fold, desvio padrão e interpretabilidade,\n",
    "o Random Forest costuma ser a melhor opção para este tipo de problema.\n",
    "\"\"\""
   ]
  }
 ],
 "metadata": {
  "kernelspec": {
   "display_name": "Python 3",
   "language": "python",
   "name": "python3"
  },
  "language_info": {
   "codemirror_mode": {
    "name": "ipython",
    "version": 3
   },
   "file_extension": ".py",
   "mimetype": "text/x-python",
   "name": "python",
   "nbconvert_exporter": "python",
   "pygments_lexer": "ipython3",
   "version": "3.13.6"
  }
 },
 "nbformat": 4,
 "nbformat_minor": 5
}
