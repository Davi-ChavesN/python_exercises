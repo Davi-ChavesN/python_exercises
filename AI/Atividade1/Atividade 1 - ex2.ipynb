{
 "cells": [
  {
   "cell_type": "markdown",
   "id": "638b9e06",
   "metadata": {},
   "source": [
    "### Manipulando arquivos\n",
    "\n",
    "Defina um problema para criar uma tabela de controle de itens de uma empresa, Exemplo, imobiliária, supermercado, produtos de papelaria, itens de carro, etc.\n",
    "\n",
    "O importante é que nesta tabela tenha o nome/descrição de um item, um campo de quantidade, mês de aquisição e um campo de valor do item. Pode haver mais campos de acordo com a sua preferência.\n",
    "\n",
    "Utilize uma IA generativa para te ajudar a criar seus dados. Para testes faça com 10 itens, depois você pode aumentar.\n",
    "\n",
    "Agora faça o seguinte:\n",
    "- Gere um arquivo CSV;\n",
    "- Carregue o arquivo criado em uma estrutura de dados do tipo lista ou outra de sua preferência;\n",
    "- Apresente os dados:\n",
    "    - Item mais caro com o nome/descrição e o valor;\n",
    "    - Item mais barato com o nome/descrição e o valor;\n",
    "- Apresente alguns dados estatísticos sobre os valores dos itens:\n",
    "    - Média\n",
    "    - Mediana"
   ]
  },
  {
   "cell_type": "code",
   "execution_count": 2,
   "id": "c1ab2ccd",
   "metadata": {},
   "outputs": [
    {
     "name": "stdout",
     "output_type": "stream",
     "text": [
      "Arquivo 'games.csv' criado com sucesso.\n",
      "\n",
      "Resultados: \n",
      "Jogo mais caro: The Legend of Zelda: Tears of the Kingdom - 349.90\n",
      "Jogo mais barato: Minecraft - R$ 149.90\n",
      "Jogo mais popular: Minecraft - 50000 downloads\n",
      "\n",
      "Estatísticas de preços: \n",
      "Média: R$ 274.90\n",
      "Mediana: R$ 294.90\n"
     ]
    }
   ],
   "source": [
    "import csv\n",
    "import statistics\n",
    "\n",
    "games = [\n",
    "    [\"Elden Ring\", \"Janeiro\", 299.90, \"RPG\", 8500],\n",
    "    [\"The Legend of Zelda: Tears of the Kingdom\", \"Fevereiro\", 349.90, \"Aventura\", 9200],\n",
    "    [\"God of War: Ragnarok\", \"Março\", 299.90, \"Ação\", 7800],\n",
    "    [\"Cyberpunk 2077\", \"Abril\", 199.90, \"RPG\", 12000],\n",
    "    [\"Hogwarts Legacy\", \"Maio\", 279.90, \"RPG\", 6400],\n",
    "    [\"Final Fantasy XVI\", \"Junho\", 329.90, \"RPG\", 5600],\n",
    "    [\"Resident Evil 4 Remake\", \"Julho\", 289.90, \"Terror\", 7000],\n",
    "    [\"Mario Kart 8 Deluxe\", \"Agosto\", 249.90, \"Corrida\", 15000],\n",
    "    [\"Minecraft\", \"Setembro\", 149.90, \"Sandbox\", 50000],\n",
    "    [\"Baldur's Gate 3\", \"Outubro\", 299.90, \"RPG\", 4800]\n",
    "]\n",
    "\n",
    "with open(\"games.csv\", \"w\", newline=\"\", encoding=\"utf-8\") as f:\n",
    "    writer = csv.writer(f)\n",
    "    writer.writerow([\"Nome\", \"Mês\", \"Preço (R$)\", \"Categoria\", \"Downloads\"])\n",
    "    writer.writerows(games)\n",
    "\n",
    "print(f\"Arquivo 'games.csv' criado com sucesso.\")\n",
    "\n",
    "data = []\n",
    "with open(\"games.csv\", \"r\", encoding=\"utf-8\") as f:\n",
    "    reader = csv.DictReader(f)\n",
    "    for row in reader:\n",
    "        row[\"Preço (R$)\"] = float(row[\"Preço (R$)\"])\n",
    "        row[\"Downloads\"] = int(row[\"Downloads\"])\n",
    "        data.append(row)\n",
    "\n",
    "most_expensive_game = max(data, key=lambda x: x[\"Preço (R$)\"])\n",
    "cheapest_game = min(data, key=lambda x: x[\"Preço (R$)\"])\n",
    "\n",
    "prices = [game[\"Preço (R$)\"] for game in data]\n",
    "mean = statistics.mean(prices)\n",
    "median = statistics.median(prices)\n",
    "\n",
    "most_popular_game = max(data, key=lambda x: x[\"Downloads\"])\n",
    "\n",
    "print(f\"\\nResultados: \")\n",
    "print(f\"Jogo mais caro: {most_expensive_game[\"Nome\"]} - {most_expensive_game[\"Preço (R$)\"]:.2f}\")\n",
    "print(f\"Jogo mais barato: {cheapest_game[\"Nome\"]} - R$ {cheapest_game[\"Preço (R$)\"]:.2f}\")\n",
    "print(f\"Jogo mais popular: {most_popular_game[\"Nome\"]} - {most_popular_game[\"Downloads\"]} downloads\")\n",
    "print(f\"\\nEstatísticas de preços: \")\n",
    "print(f\"Média: R$ {mean:.2f}\")\n",
    "print(f\"Mediana: R$ {median:.2f}\")"
   ]
  }
 ],
 "metadata": {
  "kernelspec": {
   "display_name": "Python 3",
   "language": "python",
   "name": "python3"
  },
  "language_info": {
   "codemirror_mode": {
    "name": "ipython",
    "version": 3
   },
   "file_extension": ".py",
   "mimetype": "text/x-python",
   "name": "python",
   "nbconvert_exporter": "python",
   "pygments_lexer": "ipython3",
   "version": "3.13.6"
  }
 },
 "nbformat": 4,
 "nbformat_minor": 5
}
