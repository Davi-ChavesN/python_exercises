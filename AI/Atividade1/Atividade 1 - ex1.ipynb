{
 "cells": [
  {
   "cell_type": "markdown",
   "metadata": {},
   "source": [
    "### 1. Crie um comentário de múltiplas linhas explicando a sua expectativa para o tema Ciência de Dados e/ou Inteligência Artificial."
   ]
  },
  {
   "cell_type": "code",
   "execution_count": 29,
   "metadata": {},
   "outputs": [
    {
     "data": {
      "text/plain": [
       "'\\n    Aprender mais sobre Inteligência Artificial e Ciência de Dados.\\n'"
      ]
     },
     "execution_count": 29,
     "metadata": {},
     "output_type": "execute_result"
    }
   ],
   "source": [
    "'''\n",
    "    Aprender mais sobre Inteligência Artificial e Ciência de Dados.\n",
    "'''"
   ]
  },
  {
   "cell_type": "markdown",
   "metadata": {},
   "source": [
    "### 2. Crie uma variável nome e atribua a ela mesma um nome digitado pelo usuário. Apresente na tela uma mensagem de boas vindas juntando com o nome recebido utilizando f-strings."
   ]
  },
  {
   "cell_type": "code",
   "execution_count": 30,
   "metadata": {},
   "outputs": [
    {
     "name": "stdout",
     "output_type": "stream",
     "text": [
      "Olá Davi, seja bem vindo(a).\n"
     ]
    }
   ],
   "source": [
    "nome = input('Informe seu nome: ')\n",
    "welcomeMessage = f\"Olá {nome}, seja bem vindo(a).\"\n",
    "\n",
    "print(welcomeMessage)"
   ]
  },
  {
   "cell_type": "markdown",
   "metadata": {},
   "source": [
    "### 3. Some os valores das variáveis num1 e num2, sendo num1 = 52 e num2 = 106. Por fim, exiba em tela o resultado da soma."
   ]
  },
  {
   "cell_type": "code",
   "execution_count": 31,
   "metadata": {},
   "outputs": [
    {
     "name": "stdout",
     "output_type": "stream",
     "text": [
      "52 + 106 = 158.\n"
     ]
    }
   ],
   "source": [
    "num1 = 52\n",
    "num2 = 106\n",
    "\n",
    "ans = num1 + num2\n",
    "\n",
    "print(f\"{num1} + {num2} = {ans}.\")"
   ]
  },
  {
   "cell_type": "markdown",
   "metadata": {},
   "source": [
    "### 4. Eleve o valor num1 (informado pelo usuário) à oitava potência."
   ]
  },
  {
   "cell_type": "code",
   "execution_count": 32,
   "metadata": {},
   "outputs": [
    {
     "name": "stdout",
     "output_type": "stream",
     "text": [
      "15^8 = 2562890625.\n"
     ]
    }
   ],
   "source": [
    "num1 = input('Informe um número: ')\n",
    "\n",
    "ans = pow(int(num1), 8)\n",
    "\n",
    "print(f\"{num1}^8 = {ans}.\")"
   ]
  },
  {
   "cell_type": "markdown",
   "metadata": {},
   "source": [
    "### 5. Receba uma string do usuário e armazene em uma variável. Na sequência, imprima o tamanho dessa string, isto é, a quantidade de caracteres que ela possui."
   ]
  },
  {
   "cell_type": "code",
   "execution_count": 33,
   "metadata": {},
   "outputs": [
    {
     "name": "stdout",
     "output_type": "stream",
     "text": [
      "Tamanho da frase: 11.\n"
     ]
    }
   ],
   "source": [
    "phrase = input('Me conte alguma coisa: ')\n",
    "phraseLenght = len(phrase)\n",
    "\n",
    "print(f\"Tamanho da frase: {phraseLenght}.\")"
   ]
  },
  {
   "cell_type": "markdown",
   "metadata": {},
   "source": [
    "### 6. Receba dois valores inteiros do usuário. Armazene-os em duas variáveis n1 e n2. Apresente no console qual das duas é menor, por exemplo, 'n1 é menor que n2'."
   ]
  },
  {
   "cell_type": "code",
   "execution_count": 34,
   "metadata": {},
   "outputs": [
    {
     "name": "stdout",
     "output_type": "stream",
     "text": [
      "3 é menor que 7.\n"
     ]
    }
   ],
   "source": [
    "n1 = input('Informe o primeiro núemro: ')\n",
    "n2 = input('Informe o segundo número: ')\n",
    "\n",
    "if n1 < n2:\n",
    "    menor = n1\n",
    "    maior = n2\n",
    "elif n2 < n1:\n",
    "    menor = n2\n",
    "    maior = n1\n",
    "\n",
    "print(f\"{menor} é menor que {maior}.\")"
   ]
  },
  {
   "cell_type": "markdown",
   "metadata": {},
   "source": [
    "### 7. A partir dos valores n1 e n2 obtidos no exercício anterior, verifique se ambos os números são pares."
   ]
  },
  {
   "cell_type": "code",
   "execution_count": 35,
   "metadata": {},
   "outputs": [
    {
     "name": "stdout",
     "output_type": "stream",
     "text": [
      "Um ou ambos os números não é par.\n"
     ]
    }
   ],
   "source": [
    "if int(n1)%2 == 0 & int(n2)%2 == 0:\n",
    "    print('Ambos os núemros são pares.')\n",
    "else:\n",
    "    print('Um ou ambos os números não é par.')"
   ]
  },
  {
   "cell_type": "markdown",
   "metadata": {},
   "source": [
    "### 8. Receba do usuário duas strings. A primeira é uma frase, a segunda é uma palavra. Apresente se a palavra informada está presente na frase recebida."
   ]
  },
  {
   "cell_type": "code",
   "execution_count": 36,
   "metadata": {},
   "outputs": [
    {
     "name": "stdout",
     "output_type": "stream",
     "text": [
      "A palavra 'genshin' não está presente em 'Quero jogar'.\n"
     ]
    }
   ],
   "source": [
    "phrase = input('Informe uma frase: ')\n",
    "word = input('Informe uma palavra')\n",
    "\n",
    "if phrase.find(word) != -1:\n",
    "    print(f\"A palavra '{word}' está presente em '{phrase}'.\")\n",
    "else:\n",
    "    print(f\"A palavra '{word}' não está presente em '{phrase}'.\")"
   ]
  },
  {
   "cell_type": "markdown",
   "metadata": {},
   "source": [
    "### 9. Crie uma string com o seguinte valor: 'Estamos estudando Ciência de Dados e Inteligência Artificial no Instituto Federal de Educação, Ciência e Tecnologia do Triângulo Mineiro.'\n",
    "\n",
    "Na sequência, faça o seguinte:\n",
    "- Imprima a quantidade de caracteres;\n",
    "- Verifique a ocorrência da palavra Dados;\n",
    "- Imprima a primeira metade da string;\n",
    "- Substitua 'Instituto Federal de Educação, Ciência e Tecnologia do Triângulo Mineiro' por 'IFTM';\n",
    "- Imprima a frase com todos os caracteres em maiúsculo. "
   ]
  },
  {
   "cell_type": "code",
   "execution_count": 37,
   "metadata": {},
   "outputs": [
    {
     "name": "stdout",
     "output_type": "stream",
     "text": [
      "Tamanho da frase: 137 caracteres\n",
      "A palavra 'Dados' está presente na frase 'Estamos estudando Ciência de Dados e Inteligência Artificial no IFTM.'.\n",
      "Estamos estudando Ciência de Dados e Inteligência Artificial no Inst\n",
      "Frase em maiúculo: 'ESTAMOS ESTUDANDO CIÊNCIA DE DADOS E INTELIGÊNCIA ARTIFICIAL NO IFTM.'.\n"
     ]
    }
   ],
   "source": [
    "phrase = 'Estamos estudando Ciência de Dados e Inteligência Artificial no Instituto Federal de Educação, Ciência e Tecnologia do Triângulo Mineiro.'\n",
    "\n",
    "phraseLenght = len(phrase)\n",
    "wordExists = phrase.find(\"Dados\")\n",
    "phraseHalf = phrase[:(len(phrase) // 2)]\n",
    "phrase = phrase.replace(\"Instituto Federal de Educação, Ciência e Tecnologia do Triângulo Mineiro\", \"IFTM\")\n",
    "\n",
    "print(f\"Tamanho da frase: {phraseLenght} caracteres\")\n",
    "if wordExists != -1:\n",
    "    print(f\"A palavra 'Dados' está presente na frase '{phrase}'.\")\n",
    "else:\n",
    "    print(f\"A palavra 'Dados' não está presente na frase '{phrase}'.\")\n",
    "print(phraseHalf)\n",
    "print(f\"Frase em maiúculo: '{phrase.upper()}'.\")"
   ]
  },
  {
   "cell_type": "markdown",
   "metadata": {},
   "source": [
    "### 10. Crie uma lista com 8 elementos de uma lista de compras de supermercado, por meio de um laço de repetição 'for', liste individualmente cada um dos itens dessa lista."
   ]
  },
  {
   "cell_type": "code",
   "execution_count": 38,
   "metadata": {},
   "outputs": [
    {
     "name": "stdout",
     "output_type": "stream",
     "text": [
      "Arroz\n",
      "Feijão\n",
      "Leite\n",
      "Pão\n",
      "Ovos\n",
      "Frango\n",
      "Banana\n",
      "Maçã\n"
     ]
    }
   ],
   "source": [
    "og_list = ['Arroz', 'Feijão', 'Leite', 'Pão', 'Ovos', 'Frango', 'Banana', 'Maçã']\n",
    "\n",
    "for item in og_list:\n",
    "    print(item)"
   ]
  },
  {
   "cell_type": "markdown",
   "metadata": {},
   "source": [
    "### 11. A partir da lista do exemplo anterior, liste apenas os elementos das posições ímpares."
   ]
  },
  {
   "cell_type": "code",
   "execution_count": 39,
   "metadata": {},
   "outputs": [
    {
     "name": "stdout",
     "output_type": "stream",
     "text": [
      "Arroz\n",
      "Leite\n",
      "Ovos\n",
      "Banana\n"
     ]
    }
   ],
   "source": [
    "for item in og_list:\n",
    "    if og_list.index(item)%2 == 0:\n",
    "        print(item)\n",
    "        "
   ]
  },
  {
   "cell_type": "markdown",
   "metadata": {},
   "source": [
    "### 12. Apresente todos os números pares do intervalo de 1 a 50."
   ]
  },
  {
   "cell_type": "code",
   "execution_count": 40,
   "metadata": {},
   "outputs": [
    {
     "name": "stdout",
     "output_type": "stream",
     "text": [
      "2\n",
      "4\n",
      "6\n",
      "8\n",
      "10\n",
      "12\n",
      "14\n",
      "16\n",
      "18\n",
      "20\n",
      "22\n",
      "24\n",
      "26\n",
      "28\n",
      "30\n",
      "32\n",
      "34\n",
      "36\n",
      "38\n",
      "40\n",
      "42\n",
      "44\n",
      "46\n",
      "48\n",
      "50\n"
     ]
    }
   ],
   "source": [
    "for num in range(1, 51):\n",
    "    if (num)%2 == 0:\n",
    "        print(num)"
   ]
  },
  {
   "cell_type": "markdown",
   "metadata": {},
   "source": [
    "### 13. Crie um programa que exibe em tela a tabuada de um determinado número fornecido pelo usuário."
   ]
  },
  {
   "cell_type": "code",
   "execution_count": 41,
   "metadata": {},
   "outputs": [
    {
     "name": "stdout",
     "output_type": "stream",
     "text": [
      "9x1 = 9\n",
      "9x2 = 18\n",
      "9x3 = 27\n",
      "9x4 = 36\n",
      "9x5 = 45\n",
      "9x6 = 54\n",
      "9x7 = 63\n",
      "9x8 = 72\n",
      "9x9 = 81\n",
      "9x10 = 90\n"
     ]
    }
   ],
   "source": [
    "num = input('Informe um número: ')\n",
    "\n",
    "for timesTable in range(1, 11):\n",
    "    ans = int(num) * timesTable\n",
    "    print(f\"{num}x{timesTable} = {ans}\")"
   ]
  },
  {
   "cell_type": "markdown",
   "metadata": {},
   "source": [
    "### 14. Peça para o usuário informar um número inteiro qualquer, em seguida, retorne se esse número é primo ou não, caso não, retorne também quantas vezes esse número é divisível."
   ]
  },
  {
   "cell_type": "code",
   "execution_count": 42,
   "metadata": {},
   "outputs": [
    {
     "name": "stdout",
     "output_type": "stream",
     "text": [
      "O número 5 é primo.\n"
     ]
    }
   ],
   "source": [
    "number = input('Informe um número inteiro: ')\n",
    "\n",
    "def isPrime(number):\n",
    "    divisible = 0\n",
    "    for i in range(2, number):\n",
    "        if number%i == 0:\n",
    "            divisible += 1\n",
    "        \n",
    "    if divisible > 0:\n",
    "        return {\"isDivisible\": False, \"divisible\": divisible}\n",
    "    else:\n",
    "        return {\"isDivisible\": True, \"divisible\": divisible}\n",
    "\n",
    "ans = isPrime(int(number))\n",
    "if ans[\"isDivisible\"]:\n",
    "    print(f\"O número {number} é primo.\")\n",
    "else:\n",
    "    print(f\"O número {number} não é primo. Pode ser dividido {ans[\"divisible\"]} vezes.\")"
   ]
  },
  {
   "cell_type": "markdown",
   "metadata": {},
   "source": [
    "### 15. Dada a seguinte lista de nomes = ['Ana', 'Carlos', 'Daiana', 'Fernando', 'Maria'], substitua o terceiro elemento da lista por 'Jamile'."
   ]
  },
  {
   "cell_type": "code",
   "execution_count": 43,
   "metadata": {},
   "outputs": [
    {
     "name": "stdout",
     "output_type": "stream",
     "text": [
      "Lista de nomes: ['Ana', 'Carlos', 'Jamile', 'Fernando', 'Maria'].\n"
     ]
    }
   ],
   "source": [
    "nomes = ['Ana', 'Carlos', 'Daiana', 'Fernando', 'Maria']\n",
    "\n",
    "nomes[2] = 'Jamile'\n",
    "\n",
    "print(f\"Lista de nomes: {nomes}.\")"
   ]
  },
  {
   "cell_type": "markdown",
   "metadata": {},
   "source": [
    "### 16. Apresente a sentença que irá limpar a lista de nomes declarada no exercício anterior."
   ]
  },
  {
   "cell_type": "code",
   "execution_count": 44,
   "metadata": {},
   "outputs": [
    {
     "name": "stdout",
     "output_type": "stream",
     "text": [
      "Lista de nomes: [].\n"
     ]
    }
   ],
   "source": [
    "nomes.clear()\n",
    "\n",
    "print(f\"Lista de nomes: {nomes}.\")"
   ]
  },
  {
   "cell_type": "markdown",
   "metadata": {},
   "source": [
    "### 17. Crie duas listas com elementos de material escolar. Apresente a junção destas listas."
   ]
  },
  {
   "cell_type": "code",
   "execution_count": 45,
   "metadata": {},
   "outputs": [
    {
     "name": "stdout",
     "output_type": "stream",
     "text": [
      "['Lápis', 'Borracha', 'Canetas (azul, preta e vermelha)', 'Caderno', 'Mochila', 'Régua', 'Tesoura', 'Apontador', 'Cola', 'Marcadores de texto', 'Lápis de cor', 'Calculadora', 'Fichário', 'Papel sulfite', 'Cartolina', 'Compasso', 'Bloco de notas', 'Estojo', 'Pastas para documentos', 'Esquadro']\n"
     ]
    }
   ],
   "source": [
    "material_básico = [\n",
    "    \"Lápis\",\n",
    "    \"Borracha\",\n",
    "    \"Canetas (azul, preta e vermelha)\",\n",
    "    \"Caderno\",\n",
    "    \"Mochila\",\n",
    "    \"Régua\",\n",
    "    \"Tesoura\",\n",
    "    \"Apontador\",\n",
    "    \"Cola\",\n",
    "    \"Marcadores de texto\"\n",
    "]\n",
    "\n",
    "material_adicional = [\n",
    "    \"Lápis de cor\",\n",
    "    \"Calculadora\",\n",
    "    \"Fichário\",\n",
    "    \"Papel sulfite\",\n",
    "    \"Cartolina\",\n",
    "    \"Compasso\",\n",
    "    \"Bloco de notas\",\n",
    "    \"Estojo\",\n",
    "    \"Pastas para documentos\",\n",
    "    \"Esquadro\"\n",
    "]\n",
    "\n",
    "material_total = []\n",
    "\n",
    "for material in material_básico:\n",
    "    material_total.append(material)\n",
    "\n",
    "for material in material_adicional:\n",
    "    material_total.append(material)\n",
    "\n",
    "print(material_total)"
   ]
  },
  {
   "cell_type": "markdown",
   "metadata": {},
   "source": [
    "### 18. Crie dois conjuntos e imprima:\n",
    "1. os valores comuns aos dois conjuntos;\n",
    "2. os valores que só existem na primeira;\n",
    "3. os valores que existem apenas na segunda;\n",
    "4. uma lista com os elementos não repetidos dos dois conjuntos."
   ]
  },
  {
   "cell_type": "code",
   "execution_count": 46,
   "metadata": {},
   "outputs": [
    {
     "name": "stdout",
     "output_type": "stream",
     "text": [
      "Valores comuns aos dois conjuntos: \n",
      "1\n",
      "3\n",
      "5\n",
      "7\n",
      "9\n",
      "Valores presentes apenas na lista 1: \n",
      "2\n",
      "4\n",
      "6\n",
      "8\n",
      "10\n",
      "10\n",
      "Valores presentes apenas na lista 2: \n",
      "11\n",
      "13\n",
      "15\n",
      "17\n",
      "19\n",
      "19\n",
      "Lista com os elementos não repetidos dos dois conjuntos: [2, 4, 6, 8, 10, 11, 13, 15, 17, 19]\n"
     ]
    }
   ],
   "source": [
    "list1 = [1, 2, 3, 4, 5, 6, 7, 8, 9, 10, 10]\n",
    "list2 = [1, 3, 5, 7, 9, 11, 13, 15, 17, 19, 19]\n",
    "\n",
    "print(f\"Valores comuns aos dois conjuntos: \")\n",
    "for item in list1:\n",
    "    if item in list2:\n",
    "        print(item)\n",
    "\n",
    "print(f\"Valores presentes apenas na lista 1: \")\n",
    "for item in list1:\n",
    "    if item not in list2:\n",
    "        print(item)\n",
    "\n",
    "print(f\"Valores presentes apenas na lista 2: \")\n",
    "for item in list2:\n",
    "    if item not in list1:\n",
    "        print(item)\n",
    "\n",
    "unrepeated_list = []\n",
    "for item in list1:\n",
    "    if item not in list2:\n",
    "        if item not in unrepeated_list:\n",
    "            unrepeated_list.append(item)\n",
    "for item in list2:\n",
    "    if item not in list1:\n",
    "        if item not in unrepeated_list:\n",
    "            unrepeated_list.append(item)\n",
    "\n",
    "print(f\"Lista com os elementos não repetidos dos dois conjuntos: {unrepeated_list}\")"
   ]
  },
  {
   "cell_type": "markdown",
   "metadata": {},
   "source": [
    "### 19. Crie um dicionário em que as chaves são nomes de vegetais e o valor os respectivos valores monetários de cada um. Na sequência imprima:\n",
    "1. O dicionário completo;\n",
    "2. Apenas as chaves do dicionário;\n",
    "3. Apenas os valores do dicionário;\n",
    "4. O elemento de maior valor;\n",
    "5. O elemento de menor valor."
   ]
  },
  {
   "cell_type": "code",
   "execution_count": 47,
   "metadata": {},
   "outputs": [
    {
     "name": "stdout",
     "output_type": "stream",
     "text": [
      "Dicionário: {'Cenoura': 3.5, 'Alface': 2.0, 'Tomate': 4.0, 'Batata': 2.5, 'Pepino': 3.0, 'Abobrinha': 4.5, 'Berinjela': 5.0, 'Brócolis': 6.0, 'Espinafre': 2.8, 'Couve': 3.2}.\n",
      "Chaves no dicionário: \n",
      "Cenoura\n",
      "Alface\n",
      "Tomate\n",
      "Batata\n",
      "Pepino\n",
      "Abobrinha\n",
      "Berinjela\n",
      "Brócolis\n",
      "Espinafre\n",
      "Couve\n",
      "Valores no dicionário: \n",
      "3.5\n",
      "2.0\n",
      "4.0\n",
      "2.5\n",
      "3.0\n",
      "4.5\n",
      "5.0\n",
      "6.0\n",
      "2.8\n",
      "3.2\n",
      "Elemento com o maior valor: Brócolis: 6.0.\n",
      "Elemento com o menor valor: Alface: 2.0.\n"
     ]
    }
   ],
   "source": [
    "veggetables_prices = {\n",
    "    \"Cenoura\": 3.50,\n",
    "    \"Alface\": 2.00,\n",
    "    \"Tomate\": 4.00,\n",
    "    \"Batata\": 2.50,\n",
    "    \"Pepino\": 3.00,\n",
    "    \"Abobrinha\": 4.50,\n",
    "    \"Berinjela\": 5.00,\n",
    "    \"Brócolis\": 6.00,\n",
    "    \"Espinafre\": 2.80,\n",
    "    \"Couve\": 3.20\n",
    "}\n",
    "\n",
    "print(f\"Dicionário: {veggetables_prices}.\")\n",
    "\n",
    "print(f\"Chaves no dicionário: \")\n",
    "for key in veggetables_prices:\n",
    "    print(key)\n",
    "\n",
    "print(f\"Valores no dicionário: \")\n",
    "for value in veggetables_prices:\n",
    "    print(veggetables_prices[value])\n",
    "\n",
    "\n",
    "max_key = max(veggetables_prices, key=veggetables_prices.get)\n",
    "max_value = veggetables_prices[max_key]\n",
    "print(f\"Elemento com o maior valor: {max_key}: {max_value}.\")\n",
    "\n",
    "min_key = min(veggetables_prices, key=veggetables_prices.get)\n",
    "min_value = veggetables_prices[min_key]\n",
    "print(f\"Elemento com o menor valor: {min_key}: {min_value}.\")"
   ]
  },
  {
   "cell_type": "markdown",
   "metadata": {},
   "source": [
    "### 20. Receba duas strings e gere uma terceira apenas com os caracteres que aparecem em uma delas. Exemplo: 1ª string: 'CTA', 2ª string: 'ABC', 3ª string: 'BT'"
   ]
  },
  {
   "cell_type": "code",
   "execution_count": 48,
   "metadata": {},
   "outputs": [
    {
     "name": "stdout",
     "output_type": "stream",
     "text": [
      "pmud\n"
     ]
    }
   ],
   "source": [
    "string1 = input('Informe a primeira string: ')\n",
    "string2 = input('Informe a segunda string: ')\n",
    "string3 = ''\n",
    "\n",
    "exists = 0\n",
    "for i in string1:\n",
    "    for j in string2:\n",
    "        if i == j:\n",
    "            exists += 1\n",
    "    \n",
    "    if exists == 0:\n",
    "        string3 += i\n",
    "    \n",
    "    exists = 0\n",
    "\n",
    "for i in string2:\n",
    "    for j in string1:\n",
    "        if i == j:\n",
    "            exists += 1\n",
    "    \n",
    "    if exists == 0:\n",
    "        string3 += i\n",
    "    \n",
    "    exists = 0\n",
    "\n",
    "print(string3)"
   ]
  },
  {
   "cell_type": "markdown",
   "metadata": {},
   "source": [
    "### 21. Escreva uma função que retorne a média salarial de diversos trabalhadores. Cada trabalhador é representado em um dicionário por um nome e salário. Neste sentido você terá uma lista desses trabalhadores."
   ]
  },
  {
   "cell_type": "code",
   "execution_count": 49,
   "metadata": {},
   "outputs": [
    {
     "name": "stdout",
     "output_type": "stream",
     "text": [
      "4200.0\n"
     ]
    }
   ],
   "source": [
    "import statistics\n",
    "\n",
    "workers = {\n",
    "    \"Ana\": 3000,\n",
    "    \"Bruno\": 4500,\n",
    "    \"Carlos\": 3900,\n",
    "    \"Daniela\": 5000\n",
    "}\n",
    "\n",
    "salary_list = []\n",
    "\n",
    "for key in workers:\n",
    "    salary_list.append(workers[key])\n",
    "\n",
    "print(statistics.median(salary_list))"
   ]
  },
  {
   "cell_type": "markdown",
   "metadata": {},
   "source": [
    "### 22. Receba dois valores do usuário para representar o início e o final de uma sequência. Então, utilizando o método range, apresente em tela a sequência."
   ]
  },
  {
   "cell_type": "code",
   "execution_count": 50,
   "metadata": {},
   "outputs": [
    {
     "name": "stdout",
     "output_type": "stream",
     "text": [
      "1\n",
      "2\n",
      "3\n",
      "4\n",
      "5\n",
      "6\n",
      "7\n",
      "8\n",
      "9\n"
     ]
    }
   ],
   "source": [
    "start = input('Informe o início da sequência: ')\n",
    "end = input('Informe o final da sequência: ')\n",
    "\n",
    "for i in range(int(start), int(end)+1):\n",
    "    print(i)"
   ]
  },
  {
   "cell_type": "markdown",
   "metadata": {},
   "source": [
    "### 23. Escreva um programa que retorna o número de Fibonacci iniciado em 1 onde cada termo subsequente corresponde à soma dos dois anteriores."
   ]
  },
  {
   "cell_type": "code",
   "execution_count": 51,
   "metadata": {},
   "outputs": [
    {
     "name": "stdout",
     "output_type": "stream",
     "text": [
      "1\n",
      "2\n",
      "3\n",
      "5\n",
      "8\n",
      "13\n",
      "21\n"
     ]
    }
   ],
   "source": [
    "qtt = input('Informe quantos termos mostrar na sequência de Fibonacci: ')\n",
    "\n",
    "num1 = 0\n",
    "num2 = 1\n",
    "\n",
    "for i in range(int(qtt)):\n",
    "    fibonacci = num1 + num2\n",
    "    print(f\"{fibonacci}\")\n",
    "    num1 = num2\n",
    "    num2 = fibonacci"
   ]
  },
  {
   "cell_type": "markdown",
   "metadata": {},
   "source": [
    "### 24. Utilizando o método range, crie uma lista de 100 números pares."
   ]
  },
  {
   "cell_type": "code",
   "execution_count": 52,
   "metadata": {},
   "outputs": [
    {
     "name": "stdout",
     "output_type": "stream",
     "text": [
      "lista com 100 elementos: [2, 4, 6, 8, 10, 12, 14, 16, 18, 20, 22, 24, 26, 28, 30, 32, 34, 36, 38, 40, 42, 44, 46, 48, 50, 52, 54, 56, 58, 60, 62, 64, 66, 68, 70, 72, 74, 76, 78, 80, 82, 84, 86, 88, 90, 92, 94, 96, 98, 100, 102, 104, 106, 108, 110, 112, 114, 116, 118, 120, 122, 124, 126, 128, 130, 132, 134, 136, 138, 140, 142, 144, 146, 148, 150, 152, 154, 156, 158, 160, 162, 164, 166, 168, 170, 172, 174, 176, 178, 180, 182, 184, 186, 188, 190, 192, 194, 196, 198, 200]\n"
     ]
    }
   ],
   "source": [
    "even_list = []\n",
    "\n",
    "for i in range(1, 101):\n",
    "    even_list.append(i*2)\n",
    "\n",
    "print(f\"lista com {len(even_list)} elementos: {even_list}\")"
   ]
  },
  {
   "cell_type": "markdown",
   "metadata": {},
   "source": [
    "### 25. Crie um dicionário cujas chaves são números de 1 a 9 e os valores são listas que contém a tabuada de multiplicação correspondente a cada chave. Apresente a saida completa na tela."
   ]
  },
  {
   "cell_type": "code",
   "execution_count": 53,
   "metadata": {},
   "outputs": [
    {
     "name": "stdout",
     "output_type": "stream",
     "text": [
      "1: \n",
      "1x1 = 1\n",
      "2x1 = 2\n",
      "3x1 = 3\n",
      "4x1 = 4\n",
      "5x1 = 5\n",
      "6x1 = 6\n",
      "7x1 = 7\n",
      "8x1 = 8\n",
      "9x1 = 9\n",
      "10x1 = 10\n",
      "2: \n",
      "1x2 = 2\n",
      "2x2 = 4\n",
      "3x2 = 6\n",
      "4x2 = 8\n",
      "5x2 = 10\n",
      "6x2 = 12\n",
      "7x2 = 14\n",
      "8x2 = 16\n",
      "9x2 = 18\n",
      "10x2 = 20\n",
      "3: \n",
      "1x3 = 3\n",
      "2x3 = 6\n",
      "3x3 = 9\n",
      "4x3 = 12\n",
      "5x3 = 15\n",
      "6x3 = 18\n",
      "7x3 = 21\n",
      "8x3 = 24\n",
      "9x3 = 27\n",
      "10x3 = 30\n",
      "4: \n",
      "1x4 = 4\n",
      "2x4 = 8\n",
      "3x4 = 12\n",
      "4x4 = 16\n",
      "5x4 = 20\n",
      "6x4 = 24\n",
      "7x4 = 28\n",
      "8x4 = 32\n",
      "9x4 = 36\n",
      "10x4 = 40\n",
      "5: \n",
      "1x5 = 5\n",
      "2x5 = 10\n",
      "3x5 = 15\n",
      "4x5 = 20\n",
      "5x5 = 25\n",
      "6x5 = 30\n",
      "7x5 = 35\n",
      "8x5 = 40\n",
      "9x5 = 45\n",
      "10x5 = 50\n",
      "6: \n",
      "1x6 = 6\n",
      "2x6 = 12\n",
      "3x6 = 18\n",
      "4x6 = 24\n",
      "5x6 = 30\n",
      "6x6 = 36\n",
      "7x6 = 42\n",
      "8x6 = 48\n",
      "9x6 = 54\n",
      "10x6 = 60\n",
      "7: \n",
      "1x7 = 7\n",
      "2x7 = 14\n",
      "3x7 = 21\n",
      "4x7 = 28\n",
      "5x7 = 35\n",
      "6x7 = 42\n",
      "7x7 = 49\n",
      "8x7 = 56\n",
      "9x7 = 63\n",
      "10x7 = 70\n",
      "8: \n",
      "1x8 = 8\n",
      "2x8 = 16\n",
      "3x8 = 24\n",
      "4x8 = 32\n",
      "5x8 = 40\n",
      "6x8 = 48\n",
      "7x8 = 56\n",
      "8x8 = 64\n",
      "9x8 = 72\n",
      "10x8 = 80\n",
      "9: \n",
      "1x9 = 9\n",
      "2x9 = 18\n",
      "3x9 = 27\n",
      "4x9 = 36\n",
      "5x9 = 45\n",
      "6x9 = 54\n",
      "7x9 = 63\n",
      "8x9 = 72\n",
      "9x9 = 81\n",
      "10x9 = 90\n"
     ]
    }
   ],
   "source": [
    "table_dict = {}\n",
    "\n",
    "for i in range(1, 10):\n",
    "    table_list = []\n",
    "    for j in range(1, 11):\n",
    "        table_list.append(f\"{j}x{i} = {j*i}\")\n",
    "    \n",
    "    table_dict[i] = table_list\n",
    "\n",
    "for table in table_dict:\n",
    "    print(f\"{table}: \")\n",
    "    for element in table_dict[table]:\n",
    "        print(element)"
   ]
  },
  {
   "cell_type": "markdown",
   "metadata": {},
   "source": [
    "### 26. Escreva um programa que verifica se uma determinada palavra consta em um texto de origem. Texto: \"Python é uma excelente linguagem de programação!!!\""
   ]
  },
  {
   "cell_type": "code",
   "execution_count": 54,
   "metadata": {},
   "outputs": [
    {
     "name": "stdout",
     "output_type": "stream",
     "text": [
      "A palavra 'palavra' não está presente em 'Python é uma excelente linguagem de programação!!!'.\n"
     ]
    }
   ],
   "source": [
    "text = \"Python é uma excelente linguagem de programação!!!\"\n",
    "verify_word = input('Informe uma palavra: ')\n",
    "\n",
    "exists = text.find(verify_word)\n",
    "\n",
    "if exists != -1:\n",
    "    print(f\"A palavra '{verify_word}' está presente em '{text}'.\")\n",
    "else:\n",
    "    print(f\"A palavra '{verify_word}' não está presente em '{text}'.\")"
   ]
  },
  {
   "cell_type": "markdown",
   "metadata": {},
   "source": [
    "### 27. Crie uma lista de duas dimensões (2x2) contendo valores inteiros positivos entre 0 e 9. Na sequência, faça o calculo da multiplicação dos elementos da coluna e imprima."
   ]
  },
  {
   "cell_type": "code",
   "execution_count": 55,
   "metadata": {},
   "outputs": [
    {
     "name": "stdout",
     "output_type": "stream",
     "text": [
      "[[0, 3], [9, 5]]\n",
      "0 x 9 = 0\n",
      "3 x 5 = 15\n"
     ]
    }
   ],
   "source": [
    "import random as rand\n",
    "\n",
    "matrix = []\n",
    "array = []\n",
    "\n",
    "for i in range(2):\n",
    "    for j in range(2):\n",
    "        array.append(rand.randint(0, 9))\n",
    "    matrix.append(array)\n",
    "    array = []\n",
    "\n",
    "print(matrix)\n",
    "print(f\"{matrix[0][0]} x {matrix[1][0]} = {matrix[0][0]*matrix[1][0]}\")\n",
    "print(f\"{matrix[0][1]} x {matrix[1][1]} = {matrix[0][1]*matrix[1][1]}\")"
   ]
  },
  {
   "cell_type": "markdown",
   "metadata": {},
   "source": [
    "### 28. A partir da matriz do exercício anterior, crie uma nova matriz 2x2 e realize a multiplicação entre elas."
   ]
  },
  {
   "cell_type": "code",
   "execution_count": 56,
   "metadata": {},
   "outputs": [
    {
     "name": "stdout",
     "output_type": "stream",
     "text": [
      "matriz1: [[0, 3], [9, 5]] matriz2: [[3, 2], [0, 1]]\n",
      "Matriz resultado: [[0, 3], [27, 23]]\n"
     ]
    }
   ],
   "source": [
    "import random as rand\n",
    "\n",
    "matrix2 = []\n",
    "array = []\n",
    "\n",
    "for i in range(2):\n",
    "    for j in range(2):\n",
    "        array.append(rand.randint(0, 9))\n",
    "    matrix2.append(array)\n",
    "    array = []\n",
    "\n",
    "matrix3 = [[0, 0], [0, 0]]\n",
    "\n",
    "for i in range(2):\n",
    "    for j in range(2):\n",
    "        for k in range(2):\n",
    "            matrix3[i][j] += matrix[i][k] * matrix2[k][j]\n",
    "\n",
    "print(f\"matriz1: {matrix} matriz2: {matrix2}\")\n",
    "print(f\"Matriz resultado: {matrix3}\")"
   ]
  },
  {
   "cell_type": "markdown",
   "metadata": {},
   "source": [
    "### 29. Crie uma função que recebe uma lista de valores inteiros e retorne um dicionário contendo o menor número, o maior número, a soma de todos os números, a quantidade total de elementos da lista e a média aritmética. Esta lista contém os seguintes valores: 1505, 2518, 2333, 4682, 1740, 3995, 22, -1153, -4098, 4560, 2958, 3646, 2376, -4440, 1601, 1589, 2333, 5982, 4013, 3456, 5821, 1893, 1999, 2022, 3451, -1983, 4429, -4112, -3563, 4653, 1234, 2342, -2991, 1238, 3421, 1205, 1999, 1106, 1501, 2509, 2417, 3329, 2903, 1609, 2958, 2505, 2975, 1252, 1585, 1779, 4058, 1812, 1904, 1210, 2310, 2376, 2156, 3237, 2830, 4765, 2281, 3044, 4388, 2849, 4278, 3718, 3117, 3355, 3231, 2442, 3751, 2890, 1505, -4440.\n",
    "\n",
    "Para realizar esta tarefa, antes, elimine as repetições de valores."
   ]
  },
  {
   "cell_type": "code",
   "execution_count": 4,
   "metadata": {},
   "outputs": [
    {
     "name": "stdout",
     "output_type": "stream",
     "text": [
      "Dicionário: {'Min': -4440, 'Max': 5982, 'Soma': 147440, 'Quantidade de elementos': 68, 'Média': 2429.5}\n"
     ]
    }
   ],
   "source": [
    "import statistics\n",
    "\n",
    "og_list = [1505, 2518, 2333, 4682, 1740, 3995, 22, -1153, -4098, 4560, 2958, 3646, 2376, -4440, 1601, 1589, 2333, 5982, \n",
    "        4013, 3456, 5821, 1893, 1999, 2022, 3451, -1983, 4429, -4112, -3563, 4653, 1234, 2342, -2991, 1238, 3421, 1205, \n",
    "        1999, 1106, 1501, 2509, 2417, 3329, 2903, 1609, 2958, 2505, 2975, 1252, 1585, 1779, 4058, 1812, 1904, 1210, 2310, \n",
    "        2376, 2156, 3237, 2830, 4765, 2281, 3044, 4388, 2849, 4278, 3718, 3117, 3355, 3231, 2442, 3751, 2890, 1505, -4440]\n",
    "\n",
    "unique_list = list(set(og_list))\n",
    "\n",
    "dict = {}\n",
    "dict['Min'] = min(unique_list)\n",
    "dict['Max'] = max(unique_list)\n",
    "dict['Soma'] = sum(unique_list)\n",
    "dict['Quantidade de elementos'] = len(unique_list)\n",
    "dict['Média'] = statistics.median(unique_list)\n",
    "\n",
    "print(f\"Dicionário: {dict}\")"
   ]
  },
  {
   "cell_type": "markdown",
   "metadata": {},
   "source": [
    "### 30. Crie uma função que retorne o preço total de uma compra considerando o seu valor unitário, a quantidade de itens adquirida, o desconto e o frete, conforme detalhado a seguir:\n",
    "- preco_unitario: Preço unitário do produto;\n",
    "- quantidade: Quantidade de itens comprados;\n",
    "- desconto: Valor do desconto a ser aplicado (opcional, padrão é 0);\n",
    "- frete: Valor do frete (opcional, padrão é 0)\n",
    "\n",
    "Apresente três chamadas distintas à sua função variando os argumentos."
   ]
  },
  {
   "cell_type": "code",
   "execution_count": 3,
   "metadata": {},
   "outputs": [
    {
     "name": "stdout",
     "output_type": "stream",
     "text": [
      "Preço final: 46.5\n",
      "Preço final: 40.455\n",
      "Preço final: 133.245\n"
     ]
    }
   ],
   "source": [
    "def CalcularPreço(preco_unitario, quantidade, desconto = 0, frete = 0):\n",
    "    valor_produtos = preco_unitario * quantidade\n",
    "    valor_desconto = valor_produtos\n",
    "    if(desconto > 0): \n",
    "        valor_desconto -= valor_desconto * (desconto/100)\n",
    "    \n",
    "    preco_final = valor_desconto + frete\n",
    "\n",
    "    return preco_final\n",
    "\n",
    "print(f\"Preço final: {CalcularPreço(15.5, 3)}\")\n",
    "print(f\"Preço final: {CalcularPreço(15.5, 3, 13)}\")\n",
    "print(f\"Preço final: {CalcularPreço(15.5, 3, 7, 90)}\")\n"
   ]
  },
  {
   "cell_type": "markdown",
   "metadata": {},
   "source": [
    "### 31. Considere as seguintes listas:\n",
    "l1 = [(1, 1), (2, 4), (3, 6), (4, 8), (5, 10)]\n",
    "<br>\n",
    "l2 = [(2, 4), (4, 8)]\n",
    "\n",
    "Verifique se l1 está contida em l2 e o contrário."
   ]
  },
  {
   "cell_type": "code",
   "execution_count": 6,
   "metadata": {},
   "outputs": [
    {
     "name": "stdout",
     "output_type": "stream",
     "text": [
      "Lista 1 não está em Lista 2.\n",
      "Lista 2 está em Lista 1.\n"
     ]
    }
   ],
   "source": [
    "l1 = [(1, 1), (2, 4), (3, 6), (4, 8), (5, 10)]\n",
    "l2 = [(2, 4), (4, 8)]\n",
    "\n",
    "l1_is_nested = all(elem in l2 for elem in l1)\n",
    "print(f\"Lista 1 {'está' if l1_is_nested else 'não está'} em Lista 2.\")\n",
    "\n",
    "l2_is_nested = all(elem in l1 for elem in l2)\n",
    "print(f\"Lista 2 {'está' if l2_is_nested else 'não está'} em Lista 1.\")"
   ]
  },
  {
   "cell_type": "markdown",
   "metadata": {},
   "source": [
    "### 32. Crie uma função que receba três valores (tamanho, valor inicial, valor final). A partir disso, retorne uma lista \"tamanho\" itens, onde os itens são números aleatórios no intervalo de \"valor inicial\" e \"valor final\"."
   ]
  },
  {
   "cell_type": "code",
   "execution_count": 140,
   "metadata": {},
   "outputs": [
    {
     "name": "stdout",
     "output_type": "stream",
     "text": [
      "Lista gerada: [6, 5, 9, 5, 4]\n"
     ]
    }
   ],
   "source": [
    "import random as rand\n",
    "\n",
    "def GerarLista(tamanho, valor_inicial, valor_final):\n",
    "    gen_list = []\n",
    "    for i in range(tamanho):\n",
    "        gen_list.append(rand.randint\n",
    "        (valor_inicial, valor_final))\n",
    "    \n",
    "    return gen_list\n",
    "\n",
    "print(f\"Lista gerada: {GerarLista(5, 1, 9)}\")"
   ]
  },
  {
   "cell_type": "markdown",
   "metadata": {},
   "source": [
    "### 33. Crie uma função que receba uma quantidade indeterminada de parâmetros. Essa função deve retornar a soma de todos os parâmetros numéricos recebidos."
   ]
  },
  {
   "cell_type": "code",
   "execution_count": 142,
   "metadata": {},
   "outputs": [
    {
     "name": "stdout",
     "output_type": "stream",
     "text": [
      "Soma da função: 45\n"
     ]
    }
   ],
   "source": [
    "def SomaTotal(*args):\n",
    "    sum = 0\n",
    "    for num in args:\n",
    "        sum += num\n",
    "    \n",
    "    return sum\n",
    "\n",
    "print(f\"Soma da função: {SomaTotal(1,2,3,4,5,6,7,8,9)}\")"
   ]
  },
  {
   "cell_type": "markdown",
   "metadata": {},
   "source": [
    "### 34. Crie uma função que receba um número variável de pares chave e valor que representam o nome do produto e seu respectivo valor. Apresente: o produto mais barato, o produto mais caro, a média dos valores dos produtos."
   ]
  },
  {
   "cell_type": "code",
   "execution_count": 144,
   "metadata": {},
   "outputs": [
    {
     "name": "stdout",
     "output_type": "stream",
     "text": [
      "Produto mais barato: acucar (R$3.80)\n",
      "Produto mais caro: cafe (R$12.50)\n",
      "Média dos valores: R$6.81\n"
     ]
    }
   ],
   "source": [
    "def CalculoProdutos(**kwargs):\n",
    "    mais_barato = min(kwargs.items(), key=lambda item: item[1])\n",
    "    mais_caro = max(kwargs.items(), key=lambda item: item[1])\n",
    "    media = sum(kwargs.values()) / len(kwargs)\n",
    "\n",
    "    print(f\"Produto mais barato: {mais_barato[0]} (R${mais_barato[1]:.2f})\")\n",
    "    print(f\"Produto mais caro: {mais_caro[0]} (R${mais_caro[1]:.2f})\")\n",
    "    print(f\"Média dos valores: R${media:.2f}\")\n",
    "\n",
    "CalculoProdutos(\n",
    "    arroz = 5.99,\n",
    "    feijao = 7.49,\n",
    "    leite = 4.29,\n",
    "    cafe = 12.50,\n",
    "    acucar = 3.80\n",
    ")"
   ]
  },
  {
   "cell_type": "markdown",
   "metadata": {},
   "source": [
    "### 35. Considere um dicionário de dados que contem os dados de vendas de 1 ano de determinada empresa.\n",
    "\n",
    "dados_vendas = { 1: [ ('Produto A', 100, 5000), ('Produto B', 150, 7500), ('Produto C', 80, 4000) ], 2: [ ('Produto A', 120, 6000), ('Produto B', 180, 9000), ('Produto D', 50, 2500) ], 3: [ ('Produto A', 90, 4500), ('Produto C', 100, 5000), ('Produto D', 70, 3500) ], 4: [ ('Produto A', 110, 5500), ('Produto B', 160, 8000), ('Produto D', 60, 3000) ], 5: [ ('Produto A', 130, 6500), ('Produto C', 120, 6000), ('Produto D', 80, 4000) ], 6: [ ('Produto B', 170, 8500), ('Produto C', 90, 4500), ('Produto D', 40, 2000) ], 7: [ ('Produto A', 100, 5000), ('Produto B', 150, 7500), ('Produto C', 80, 4000) ], 8: [ ('Produto A', 120, 6000), ('Produto B', 180, 9000), ('Produto D', 50, 2500) ], 9: [ ('Produto A', 90, 4500), ('Produto C', 100, 5000), ('Produto D', 70, 3500) ], 10: [ ('Produto A', 110, 5500), ('Produto B', 160, 8000), ('Produto D', 60, 3000) ], 11: [ ('Produto A', 130, 6500), ('Produto C', 120, 6000), ('Produto D', 80, 4000) ], 12: [ ('Produto B', 170, 8500), ('Produto C', 90, 4500), ('Produto D', 40, 2000) ] }\n",
    "\n",
    "Observe que para cada mês há uma lista de tuplas. Cada tupla representa o nome do produto, quantidade vendida e receita gerada. A partir destes dados forneça um relatório em tela contendo:\n",
    "\n",
    "- Vendas por Mês: Permitir que o usuário consulte as vendas de um determinado mês, mostrando todos os produtos vendidos naquele mês e as respectivas quantidades e receitas geradas.\n",
    "- Produto mais Vendido: Identificar e exibir o produto que teve o maior número de unidades vendidas em um determinado mês.\n",
    "- Maior e Menor Receita: Identificar e exibir o mês que gerou a maior e a menor receita total.\n",
    "\n",
    "Para esse exercício, recomendo a leitura desse artigo: https://realpython.com/python-min-and-max/"
   ]
  },
  {
   "cell_type": "code",
   "execution_count": null,
   "metadata": {},
   "outputs": [
    {
     "name": "stdout",
     "output_type": "stream",
     "text": [
      "\n",
      "Vendas do mês 2:\n",
      " - Produto A: 120 unidades, R$ 6000.00\n",
      " - Produto B: 180 unidades, R$ 9000.00\n",
      " - Produto D: 50 unidades, R$ 2500.00\n",
      "\n",
      "Produto mais vendido no mês 2: Produto B (180 unidades)\n",
      "\n",
      "Mês com MAIOR receita: 2 (R$ 17500.00)\n",
      "Mês com MENOR receita: 3 (R$ 13000.00)\n"
     ]
    }
   ],
   "source": [
    "dados_vendas = {\n",
    "    1: [(\"Produto A\", 100, 5000), (\"Produto B\", 150, 7500), (\"Produto C\", 80, 4000)],\n",
    "    2: [(\"Produto A\", 120, 6000), (\"Produto B\", 180, 9000), (\"Produto D\", 50, 2500)],\n",
    "    3: [(\"Produto A\", 90, 4500), (\"Produto C\", 100, 5000), (\"Produto D\", 70, 3500)],\n",
    "    4: [(\"Produto A\", 110, 5500), (\"Produto B\", 160, 8000), (\"Produto D\", 60, 3000)],\n",
    "    5: [(\"Produto A\", 130, 6500), (\"Produto C\", 120, 6000), (\"Produto D\", 80, 4000)],\n",
    "    6: [(\"Produto B\", 170, 8500), (\"Produto C\", 90, 4500), (\"Produto D\", 40, 2000)],\n",
    "    7: [(\"Produto A\", 100, 5000), (\"Produto B\", 150, 7500), (\"Produto C\", 80, 4000)],\n",
    "    8: [(\"Produto A\", 120, 6000), (\"Produto B\", 180, 9000), (\"Produto D\", 50, 2500)],\n",
    "    9: [(\"Produto A\", 90, 4500), (\"Produto C\", 100, 5000), (\"Produto D\", 70, 3500)],\n",
    "    10: [(\"Produto A\", 110, 5500), (\"Produto B\", 160, 8000), (\"Produto D\", 60, 3000)],\n",
    "    11: [(\"Produto A\", 130, 6500), (\"Produto C\", 120, 6000), (\"Produto D\", 80, 4000)],\n",
    "    12: [(\"Produto B\", 170, 8500), (\"Produto C\", 90, 4500), (\"Produto D\", 40, 2000)]\n",
    "}\n",
    "\n",
    "\n",
    "def vendas_por_mes(mes):\n",
    "    if mes not in dados_vendas:\n",
    "        print(f\"Mês {mes} inválido.\")\n",
    "        return\n",
    "    print(f\"\\nVendas do mês {mes}:\")\n",
    "    for produto, qtd, receita in dados_vendas[mes]:\n",
    "        print(f\" - {produto}: {qtd} unidades, R$ {receita:.2f}\")\n",
    "\n",
    "\n",
    "def produto_mais_vendido(mes):\n",
    "    if mes not in dados_vendas:\n",
    "        print(f\"Mês {mes} inválido.\")\n",
    "        return\n",
    "    mais_vendido = max(dados_vendas[mes], key=lambda x: x[1])\n",
    "    print(f\"\\nProduto mais vendido no mês {mes}: {mais_vendido[0]} ({mais_vendido[1]} unidades)\")\n",
    "\n",
    "\n",
    "def maior_menor_receita():\n",
    "    receitas = {}\n",
    "    for mes, vendas in dados_vendas.items():\n",
    "        receitas[mes] = sum(receita for _, _, receita in vendas)\n",
    "\n",
    "    mes_maior = max(receitas, key=receitas.get)\n",
    "    mes_menor = min(receitas, key=receitas.get)\n",
    "\n",
    "    print(f\"\\nMês com MAIOR receita: {mes_maior} (R$ {receitas[mes_maior]:.2f})\")\n",
    "    print(f\"Mês com MENOR receita: {mes_menor} (R$ {receitas[mes_menor]:.2f})\")\n",
    "\n",
    "\n",
    "\n",
    "vendas_por_mes(3)\n",
    "produto_mais_vendido(2)\n",
    "maior_menor_receita()\n"
   ]
  },
  {
   "cell_type": "markdown",
   "metadata": {},
   "source": [
    "### 36. Crie uma lista contendo 10 elementos de sua preferência. E faça o seguinte:\n",
    "\n",
    "1. Crie uma segunda variável e atribua a variável 1 (que se refere à lista);\n",
    "2. Imprima as duas listas;\n",
    "3. Altere um dado qualquer da lista 2;\n",
    "4. Imprima as duas listas;\n",
    "5. Faça uma cópia da lista 1 para a lista 2. Utilize o recurso de fatiamento (slicing);\n",
    "6. Imprima as duas listas novamente;\n",
    "7. Por fim, imprima suas observações em relação a este exercício."
   ]
  },
  {
   "cell_type": "code",
   "execution_count": 3,
   "metadata": {},
   "outputs": [
    {
     "name": "stdout",
     "output_type": "stream",
     "text": [
      "Lista 1: [10, 20, 30, 40, 50, 60, 70, 80, 90, 100]\n",
      "Lista 2: [10, 20, 30, 40, 50, 60, 70, 80, 90, 100]\n",
      "\n",
      "Após alteração na lista2: \n",
      "Lista 1: [999, 20, 30, 40, 50, 60, 70, 80, 90, 100]\n",
      "Lista 2: [999, 20, 30, 40, 50, 60, 70, 80, 90, 100]\n",
      "\n",
      "Após cópia por fatiamento: \n",
      "Lista 1: [999, 20, 30, 40, 50, 60, 70, 80, 90, 100]\n",
      "Lista 2: [999, 20, 30, 40, 50, 60, 70, 80, 90, 100]\n",
      "\n",
      "Após nova alteração em lista2:\n",
      "Lista 1: [999, 20, 30, 40, 50, 60, 70, 80, 90, 100]\n",
      "Lista 2: [999, 555, 30, 40, 50, 60, 70, 80, 90, 100]\n",
      "\n",
      "Observações: \n",
      "- Quando atribuímos lista2 = lista1, ambas apontam para o mesmo objeto na memória.\n",
      "- Qualquer alteração em uma afeta a outra.\n",
      "- Quando usamos slicing (lista2 = lista1[:]), criamos uma nova cópia da lista.\n",
      "- Nesse caso, as listas ficam independentes: alterar uma não altera a outra.\n"
     ]
    }
   ],
   "source": [
    "lista1 = [10, 20, 30, 40, 50, 60, 70, 80, 90, 100]\n",
    "\n",
    "lista2 = lista1\n",
    "\n",
    "print(f\"Lista 1: {lista1}\")\n",
    "print(f\"Lista 2: {lista2}\")\n",
    "\n",
    "lista2[0] = 999\n",
    "\n",
    "print(\"\\nApós alteração na lista2: \")\n",
    "print(f\"Lista 1: {lista1}\")\n",
    "print(f\"Lista 2: {lista2}\")\n",
    "\n",
    "lista2 = lista1[:]\n",
    "\n",
    "print(\"\\nApós cópia por fatiamento: \")\n",
    "print(f\"Lista 1: {lista1}\")\n",
    "print(f\"Lista 2: {lista2}\")\n",
    "\n",
    "lista2[1] = 555\n",
    "\n",
    "print(\"\\nApós nova alteração em lista2:\")\n",
    "print(f\"Lista 1: {lista1}\")\n",
    "print(f\"Lista 2: {lista2}\")\n",
    "\n",
    "print(\"\\nObservações: \")\n",
    "print(\"- Quando atribuímos lista2 = lista1, ambas apontam para o mesmo objeto na memória.\")\n",
    "print(\"- Qualquer alteração em uma afeta a outra.\")\n",
    "print(\"- Quando usamos slicing (lista2 = lista1[:]), criamos uma nova cópia da lista.\")\n",
    "print(\"- Nesse caso, as listas ficam independentes: alterar uma não altera a outra.\")\n"
   ]
  }
 ],
 "metadata": {
  "kernelspec": {
   "display_name": "Python 3",
   "language": "python",
   "name": "python3"
  },
  "language_info": {
   "codemirror_mode": {
    "name": "ipython",
    "version": 3
   },
   "file_extension": ".py",
   "mimetype": "text/x-python",
   "name": "python",
   "nbconvert_exporter": "python",
   "pygments_lexer": "ipython3",
   "version": "3.13.6"
  }
 },
 "nbformat": 4,
 "nbformat_minor": 2
}
