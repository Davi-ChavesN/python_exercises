{
 "cells": [
  {
   "cell_type": "markdown",
   "metadata": {},
   "source": [
    "### Bibliotecas"
   ]
  },
  {
   "cell_type": "code",
   "execution_count": 116,
   "metadata": {},
   "outputs": [],
   "source": [
    "import random\n",
    "import math\n",
    "from haversine import haversine"
   ]
  },
  {
   "cell_type": "markdown",
   "metadata": {},
   "source": [
    "### Função de Avaliação (objetivo) ou (fitness)"
   ]
  },
  {
   "cell_type": "code",
   "execution_count": 117,
   "metadata": {},
   "outputs": [],
   "source": [
    "# Função para calcular a distância entre duas cidades\n",
    "def calcular_tamanho_rota(rotas, matriz_distancias):\n",
    "    distancia_total = 0\n",
    "    for i in range(len(rotas) - 1):\n",
    "        cidade_a = rotas[i]\n",
    "        cidade_b = rotas[i + 1]\n",
    "        distancia_total += matriz_distancias[cidade_a][cidade_b]\n",
    "    cidade_a = rotas[-1]\n",
    "    cidade_b = rotas[0]\n",
    "    distancia_total += matriz_distancias[cidade_a][cidade_b]\n",
    "    return distancia_total"
   ]
  },
  {
   "cell_type": "markdown",
   "metadata": {},
   "source": [
    "### Criar uma população inicial"
   ]
  },
  {
   "cell_type": "code",
   "execution_count": 118,
   "metadata": {},
   "outputs": [],
   "source": [
    "# Função para gerar uma população inicial de rotas\n",
    "def gerar_populacao_inicial(tamanho_populacao, n_cidades):\n",
    "    populacao = []\n",
    "    for _ in range(tamanho_populacao):\n",
    "        rota = list(range(n_cidades))\n",
    "        random.shuffle(rota)\n",
    "        populacao.append(rota)\n",
    "    return populacao"
   ]
  },
  {
   "cell_type": "markdown",
   "metadata": {},
   "source": [
    "### Criar uma função de seleção"
   ]
  },
  {
   "cell_type": "code",
   "execution_count": 119,
   "metadata": {},
   "outputs": [],
   "source": [
    "# Função para seleção de pais (roleta). Esta função retorna um pai\n",
    "def selecao_por_roleta(populacao, matriz_distancias):\n",
    "    fitness = []\n",
    "    for rota in populacao:\n",
    "        fitness.append(1 / calcular_tamanho_rota(rota, matriz_distancias))\n",
    "    total_fitness = sum(fitness)\n",
    "    probabilidades = [f / total_fitness for f in fitness]\n",
    "    return populacao[random.choices(range(len(populacao)), probabilidades)[0]]"
   ]
  },
  {
   "cell_type": "markdown",
   "metadata": {},
   "source": [
    "### Criar uma função de cruzamento"
   ]
  },
  {
   "cell_type": "code",
   "execution_count": 120,
   "metadata": {},
   "outputs": [],
   "source": [
    "# Função para cruzamento de duas rotas (crossover) e retorna um filho\n",
    "def cruzamento(rota1, rota2):\n",
    "    start, end = sorted(random.sample(range(len(rota1)), 2))\n",
    "    filho = [-1] * len(rota1)\n",
    "    filho[start:end] = rota1[start:end]\n",
    "    for i in range(len(rota2)):\n",
    "        if rota2[i] not in filho:\n",
    "            for j in range(len(filho)):\n",
    "                if filho[j] == -1:\n",
    "                    filho[j] = rota2[i]\n",
    "                    break\n",
    "    return filho"
   ]
  },
  {
   "cell_type": "markdown",
   "metadata": {},
   "source": [
    "### Criar uma função de mutação"
   ]
  },
  {
   "cell_type": "code",
   "execution_count": 121,
   "metadata": {},
   "outputs": [],
   "source": [
    "# Função de mutação (troca de dois pontos)\n",
    "def mutacao(rota, taxa_mutacao):\n",
    "    if random.random() < taxa_mutacao:\n",
    "        i, j = random.sample(range(len(rota)), 2)\n",
    "        rota[i], rota[j] = rota[j], rota[i]\n",
    "    return rota"
   ]
  },
  {
   "cell_type": "markdown",
   "metadata": {},
   "source": [
    "### Loop principal"
   ]
  },
  {
   "cell_type": "code",
   "execution_count": 122,
   "metadata": {},
   "outputs": [],
   "source": [
    "# Função para o algoritmo genético\n",
    "def algoritmo_genetico(matriz_distancias, tamanho_populacao=100, geracoes=100, taxa_mutacao=0.01):\n",
    "    n_cidades = len(matriz_distancias)\n",
    "    populacao = gerar_populacao_inicial(tamanho_populacao, n_cidades)\n",
    "    melhor_rota = None\n",
    "    melhor_distancia = float('inf')\n",
    "    geracao_melhor_rota = -1\n",
    "\n",
    "    for geracao in range(geracoes):\n",
    "        nova_populacao = []\n",
    "        for _ in range(len(populacao) // 2):\n",
    "            pai1 = selecao_por_roleta(populacao, matriz_distancias)\n",
    "            pai2 = selecao_por_roleta(populacao, matriz_distancias)\n",
    "            filho1 = cruzamento(pai1, pai2)\n",
    "            filho2 = cruzamento(pai2, pai1)\n",
    "            nova_populacao.append(mutacao(filho1, taxa_mutacao))\n",
    "            nova_populacao.append(mutacao(filho2, taxa_mutacao))\n",
    "        \n",
    "        populacao = nova_populacao\n",
    "\n",
    "        # Verifica o melhor individuo da população\n",
    "        for rota in populacao:\n",
    "            distancia = calcular_tamanho_rota(rota, matriz_distancias)\n",
    "            if distancia < melhor_distancia:\n",
    "                melhor_distancia = distancia\n",
    "                melhor_rota = rota\n",
    "                geracao_melhor_rota = geracao\n",
    "\n",
    "    return melhor_rota, melhor_distancia, geracao_melhor_rota"
   ]
  },
  {
   "cell_type": "code",
   "execution_count": 178,
   "metadata": {},
   "outputs": [
    {
     "name": "stdout",
     "output_type": "stream",
     "text": [
      "Melhor rota: [3, 4, 2, 0, 1, 5]\n",
      "Distância Total: 70\n",
      "Geração que obteve a melhor solução: 26\n"
     ]
    }
   ],
   "source": [
    "matriz_distancias = [\n",
    "    [0,  10, 15, 20, 25, 30],\n",
    "    [10, 0,  35, 25, 30, 5],\n",
    "    [15, 35, 0,  30, 15, 20],\n",
    "    [20, 25, 30, 0,  10, 15],\n",
    "    [25, 30, 15, 10, 0,  10],\n",
    "    [30, 5,  20, 15, 10, 0]\n",
    "]\n",
    "\n",
    "tamanho_populacao = 10\n",
    "geracoes = 100\n",
    "taxa_mutacao = 0.05\n",
    "\n",
    "melhor_rota, melhor_distancia, geracao_melhor_rota = algoritmo_genetico(matriz_distancias, tamanho_populacao, geracoes, taxa_mutacao)\n",
    "\n",
    "matriz_distancias\n",
    "print(f\"Melhor rota: {melhor_rota}\")\n",
    "print(f\"Distância Total: {melhor_distancia}\")\n",
    "print(f\"Geração que obteve a melhor solução: {geracao_melhor_rota}\")"
   ]
  },
  {
   "cell_type": "code",
   "execution_count": 165,
   "metadata": {},
   "outputs": [
    {
     "name": "stdout",
     "output_type": "stream",
     "text": [
      "Distance Matrix (km):\n",
      "        ana_clar  arthur_r  artur_ca  barbara_  bruno_an  davi_cha  heitor_m  joice_cr  luan_flo  lucas_da  luiz_fol  maria_lu  patrick_  rogerio_  tayna_ca      iftm\n",
      "ana_clar    0.0000    1.4116    4.1806    4.6847    5.1063    7.1121    2.6777    0.2267    4.8567    1.1735    1.3413    4.0196    1.4975    2.2664    4.8341    4.2059\n",
      "arthur_r    1.4116    0.0000    4.3283    3.2814    3.9481    7.1889    2.5840    1.2742    3.4487    1.6781    2.3483    4.1723    0.3741    2.7413    3.5393    5.2416\n",
      "artur_ca    4.1806    4.3283    0.0000    5.7842    7.9108   11.2776    1.7566    4.3449    6.0101    5.3299    5.4372    0.1614    4.6977    6.4470    7.2244    7.9429\n",
      "barbara_    4.6847    3.2814    5.7842    0.0000    2.9900    8.6943    4.3312    4.5555    0.2265    4.7406    5.5182    5.6793    3.3119    5.5022    2.0705    8.2510\n",
      "bruno_an    5.1063    3.9481    7.9108    2.9900    0.0000    6.1261    6.1960    4.8924    2.8779    4.4500    5.2116    7.7728    3.6866    4.5665    0.9215    7.2070\n",
      "davi_cha    7.1121    7.1889   11.2776    8.6943    6.1261    0.0000    9.6503    6.9361    8.6725    5.9492    5.9828   11.1162    6.8277    4.8640    6.9076    4.9924\n",
      "heitor_m    2.6777    2.5840    1.7566    4.3312    6.1960    9.6503    0.0000    2.7971    4.5560    3.7488    4.0106    1.6058    2.9564    4.8978    5.5539    6.7653\n",
      "joice_cr    0.2267    1.2742    4.3449    4.5555    4.8924    6.9361    2.7971    0.0000    4.7217    0.9871    1.2743    4.1836    1.3171    2.1107    4.6372    4.1807\n",
      "luan_flo    4.8567    3.4487    6.0101    0.2265    2.8779    8.6725    4.5560    4.7217    0.0000    4.8717    5.6564    5.9055    3.4613    5.5999    1.9565    8.3593\n",
      "lucas_da    1.1735    1.6781    5.3299    4.7406    4.4500    5.9492    3.7488    0.9871    4.8717    0.0000    0.8072    5.1685    1.4798    1.1542    4.3772    3.5785\n",
      "luiz_fol    1.3413    2.3483    5.4372    5.5182    5.2116    5.9828    4.0106    1.2743    5.6564    0.8072    0.0000    5.2782    2.2188    1.1681    5.1759    2.9221\n",
      "maria_lu    4.0196    4.1723    0.1614    5.6793    7.7728   11.1162    1.6058    4.1836    5.9055    5.1685    5.2782    0.0000    4.5412    6.2860    7.0938    7.7946\n",
      "patrick_    1.4975    0.3741    4.6977    3.3119    3.6866    6.8277    2.9564    1.3171    3.4613    1.4798    2.2188    4.5412    0.0000    2.4682    3.3465    5.0575\n",
      "rogerio_    2.2664    2.7413    6.4470    5.5022    4.5665    4.8640    4.8978    2.1107    5.5999    1.1542    1.1681    6.2860    2.4682    0.0000    4.7235    2.7773\n",
      "tayna_ca    4.8341    3.5393    7.2244    2.0705    0.9215    6.9076    5.5539    4.6372    1.9565    4.3772    5.1759    7.0938    3.3465    4.7235    0.0000    7.4648\n",
      "    iftm    4.2059    5.2416    7.9429    8.2510    7.2070    4.9924    6.7653    4.1807    8.3593    3.5785    2.9221    7.7946    5.0575    2.7773    7.4648    0.0000\n",
      "\n",
      "\n",
      "Melhor rota: [7, 1, 10, 0, 6, 2, 11, 4, 8, 3, 14, 5, 15, 13, 9, 12]\n",
      "Distância Total: 41.13569073571114\n",
      "Geração que obteve a melhor solução: 26\n"
     ]
    }
   ],
   "source": [
    "locations = {\n",
    "    'ana_clara': (-19.738784523377877, -47.92374443626213),\n",
    "    'arthur_ramos': (-19.751327, -47.921663),\n",
    "    'artur_campos': (-19.7353056, -47.8839722),\n",
    "    'barbara_cobo': (-19.7796514, -47.9128640),\n",
    "    'bruno_antonio': (-19.781608483506588, -47.941363879846016),\n",
    "    'davi_chaves': (-19.751448, -47.990355),\n",
    "    'heitor_melo': (-19.7430957, -47.8985734),\n",
    "    'joice_cristina': (-19.7403451, -47.9251389),\n",
    "    'luan_flor': (-19.78146, -47.91386),\n",
    "    'lucas_dayrell': (-19.74213256406242,  -47.93437766952385),\n",
    "    'luiz_folador': (-19.73502, -47.93592),\n",
    "    'maria_luisa': (-19.735548, -47.885493),\n",
    "    'patrick_machado': (-19.752190, -47.925118),\n",
    "    'rogerio_coutinho': (-19.740709, -47.945302),\n",
    "    'tayna_cardoso': (-19.78146, -47.9325588),\n",
    "    'iftm': (-19.718660337225800, -47.95776847526162)\n",
    "}\n",
    "\n",
    "matrix = []\n",
    "names = list(locations.keys())\n",
    "\n",
    "for name1 in names:\n",
    "    row = []\n",
    "    for name2 in names:\n",
    "        distance = haversine(locations[name1], locations[name2])\n",
    "        row.append(distance)\n",
    "    matrix.append(row)\n",
    "\n",
    "\n",
    "tamanho_populacao = 10\n",
    "geracoes = 100\n",
    "taxa_mutacao = 0.05\n",
    "\n",
    "melhor_rota, melhor_distancia, geracao_melhor_rota = algoritmo_genetico(matrix, tamanho_populacao, geracoes, taxa_mutacao)\n",
    "\n",
    "\n",
    "print(\"Distance Matrix (km):\")\n",
    "print(\"        \" + \"  \".join(f\"{n[:8]:>8}\" for n in names))\n",
    "for name, row in zip(names, matrix):\n",
    "    print(f\"{name[:8]:>8}  \" + \"  \".join(f\"{d:8.4f}\" for d in row))\n",
    "\n",
    "\n",
    "print(f\"\\n\")\n",
    "print(f\"Melhor rota: {melhor_rota}\")\n",
    "print(f\"Distância Total: {melhor_distancia}\")\n",
    "print(f\"Geração que obteve a melhor solução: {geracao_melhor_rota}\")"
   ]
  }
 ],
 "metadata": {
  "kernelspec": {
   "display_name": ".venv",
   "language": "python",
   "name": "python3"
  },
  "language_info": {
   "codemirror_mode": {
    "name": "ipython",
    "version": 3
   },
   "file_extension": ".py",
   "mimetype": "text/x-python",
   "name": "python",
   "nbconvert_exporter": "python",
   "pygments_lexer": "ipython3",
   "version": "3.12.3"
  }
 },
 "nbformat": 4,
 "nbformat_minor": 2
}
